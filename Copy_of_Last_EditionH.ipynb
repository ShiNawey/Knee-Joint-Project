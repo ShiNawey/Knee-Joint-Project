{
  "nbformat": 4,
  "nbformat_minor": 0,
  "metadata": {
    "colab": {
      "provenance": [],
      "gpuType": "T4"
    },
    "kernelspec": {
      "name": "python3",
      "display_name": "Python 3"
    },
    "language_info": {
      "name": "python"
    },
    "accelerator": "GPU"
  },
  "cells": [
    {
      "cell_type": "code",
      "execution_count": 1,
      "metadata": {
        "colab": {
          "base_uri": "https://localhost:8080/"
        },
        "id": "2gQpn7mCpt56",
        "outputId": "d1f0b2ff-9748-429d-f16b-d6212bc61483"
      },
      "outputs": [
        {
          "output_type": "stream",
          "name": "stdout",
          "text": [
            "Mounted at /content/drive\n"
          ]
        }
      ],
      "source": [
        "from google.colab import drive\n",
        "drive.mount('/content/drive')"
      ]
    },
    {
      "cell_type": "markdown",
      "source": [
        "# **Importing Libraries**"
      ],
      "metadata": {
        "id": "T9NbqAQ0qN_h"
      }
    },
    {
      "cell_type": "code",
      "source": [
        "import os\n",
        "import numpy as np\n",
        "import matplotlib.pyplot as plt\n",
        "import cv2\n",
        "from sklearn.model_selection import train_test_split\n",
        "from tensorflow.keras.preprocessing.image import ImageDataGenerator\n",
        "from tensorflow.keras.applications import VGG19, MobileNet\n",
        "from tensorflow.keras.layers import GlobalAveragePooling2D, Dense\n",
        "from tensorflow.keras.models import Model\n",
        "from tensorflow.keras.optimizers import Adam\n",
        "from tensorflow.keras.callbacks import ModelCheckpoint, EarlyStopping\n",
        "from sklearn.metrics import accuracy_score, classification_report, confusion_matrix\n",
        "import seaborn as sns\n"
      ],
      "metadata": {
        "id": "J-ltTY99p_DC"
      },
      "execution_count": 2,
      "outputs": []
    },
    {
      "cell_type": "markdown",
      "source": [
        "# **Define Data Directory and Categories**"
      ],
      "metadata": {
        "id": "vWjF6Oyrp-MN"
      }
    },
    {
      "cell_type": "code",
      "source": [
        "data_dir = \"/content/drive/MyDrive/knee-project\"\n",
        "categories = [\"Normal\", \"Severe\", \"Mild\", \"Doubtful\", \"Moderate\"]\n"
      ],
      "metadata": {
        "id": "PhaNr__7qtpU"
      },
      "execution_count": 3,
      "outputs": []
    },
    {
      "cell_type": "markdown",
      "source": [
        "# **Preprocessing Function**"
      ],
      "metadata": {
        "id": "eZaR1EOcq0zN"
      }
    },
    {
      "cell_type": "code",
      "source": [
        "#def preprocess_image(image_path):\n",
        "    #image = cv2.imread(image_path)\n",
        "    # gray = cv2.cvtColor(image, cv2.COLOR_BGR2GRAY)\n",
        "    #cropped_image = image[16:240, 16:240]  # Crop to center 224x224 region\n",
        "    #resized_image = cv2.resize(cropped_image, (224, 224))\n",
        "    #return resized_image\n"
      ],
      "metadata": {
        "id": "bm3NwD6Jq5Ed"
      },
      "execution_count": 4,
      "outputs": []
    },
    {
      "cell_type": "code",
      "source": [
        "def preprocess_image(image_path, target_size=(224, 224)):\n",
        "    image = cv2.imread(image_path)\n",
        "    # Get the dimensions of the original image\n",
        "    height, width, _ = image.shape\n",
        "\n",
        "    # Define the coordinates to crop the image around its center\n",
        "    center_x = width // 2\n",
        "    center_y = height // 2\n",
        "    crop_width = min(width, height)\n",
        "    crop_height = min(width, height)\n",
        "\n",
        "    # Calculate the cropping boundaries\n",
        "    x1 = center_x - crop_width // 2\n",
        "    y1 = center_y - crop_height // 2\n",
        "    x2 = center_x + crop_width // 2\n",
        "    y2 = center_y + crop_height // 2\n",
        "\n",
        "    # Crop the central region\n",
        "    cropped_image = image[y1:y2, x1:x2]\n",
        "\n",
        "    # Pad the cropped image to match the target size\n",
        "    pad_x = (target_size[0] - crop_width) // 2\n",
        "    pad_y = (target_size[1] - crop_height) // 2\n",
        "    padded_image = cv2.copyMakeBorder(cropped_image, pad_y, pad_y, pad_x, pad_x, cv2.BORDER_CONSTANT)\n",
        "\n",
        "    # Resize the image to the target size\n",
        "    resized_image = cv2.resize(padded_image, target_size)\n",
        "\n",
        "    return resized_image\n"
      ],
      "metadata": {
        "id": "eM2f2Eqla69C"
      },
      "execution_count": 5,
      "outputs": []
    },
    {
      "cell_type": "markdown",
      "source": [
        "# **Load Images and Labels**"
      ],
      "metadata": {
        "id": "SYwcGNrNq9uY"
      }
    },
    {
      "cell_type": "code",
      "source": [
        "images = []\n",
        "labels = []\n",
        "for category_id, category in enumerate(categories):\n",
        "    folder_path = os.path.join(data_dir, category)\n",
        "    for image_name in os.listdir(folder_path):\n",
        "        if image_name.endswith(\".png\"):  # Ensure only PNG images are considered\n",
        "            image_path = os.path.join(folder_path, image_name)\n",
        "            preprocessed_image = preprocess_image(image_path)\n",
        "            images.append(preprocessed_image)\n",
        "            labels.append(category_id)\n"
      ],
      "metadata": {
        "id": "r7fT5lEhrDlF"
      },
      "execution_count": 6,
      "outputs": []
    },
    {
      "cell_type": "code",
      "source": [
        "images[0].shape"
      ],
      "metadata": {
        "colab": {
          "base_uri": "https://localhost:8080/"
        },
        "id": "olOs-NfiBoP-",
        "outputId": "f05fb29e-7477-4026-e9a0-444285d51462"
      },
      "execution_count": 7,
      "outputs": [
        {
          "output_type": "execute_result",
          "data": {
            "text/plain": [
              "(224, 224, 3)"
            ]
          },
          "metadata": {},
          "execution_count": 7
        }
      ]
    },
    {
      "cell_type": "markdown",
      "source": [
        "# **Split Data**"
      ],
      "metadata": {
        "id": "Ub9TpoIyrSrL"
      }
    },
    {
      "cell_type": "code",
      "source": [
        "images = np.array(images)\n",
        "labels = np.array(labels)\n",
        "X_train, X_test, y_train, y_test = train_test_split(images, labels, test_size=0.2, random_state=42)\n"
      ],
      "metadata": {
        "id": "WA7CzHJrrXS4"
      },
      "execution_count": 8,
      "outputs": []
    },
    {
      "cell_type": "code",
      "source": [
        "X_train.shape"
      ],
      "metadata": {
        "colab": {
          "base_uri": "https://localhost:8080/"
        },
        "id": "2Sn4TZN3A7Yo",
        "outputId": "1b3b2c82-2ba5-4656-c44c-c9ccdeabe617"
      },
      "execution_count": 9,
      "outputs": [
        {
          "output_type": "execute_result",
          "data": {
            "text/plain": [
              "(1320, 224, 224, 3)"
            ]
          },
          "metadata": {},
          "execution_count": 9
        }
      ]
    },
    {
      "cell_type": "code",
      "source": [
        "X_train.reshape(-1,224,224,1).shape"
      ],
      "metadata": {
        "colab": {
          "base_uri": "https://localhost:8080/"
        },
        "id": "JqWH1-vcA6ZQ",
        "outputId": "be4fefeb-89ea-4775-966a-1f1b495ac59c"
      },
      "execution_count": 10,
      "outputs": [
        {
          "output_type": "execute_result",
          "data": {
            "text/plain": [
              "(3960, 224, 224, 1)"
            ]
          },
          "metadata": {},
          "execution_count": 10
        }
      ]
    },
    {
      "cell_type": "markdown",
      "source": [
        "# **Data Generators**"
      ],
      "metadata": {
        "id": "w68k5W-IralQ"
      }
    },
    {
      "cell_type": "code",
      "source": [
        "train_datagen = ImageDataGenerator(\n",
        "    rescale=1./255,\n",
        "    rotation_range=20,\n",
        "    width_shift_range=0.2,\n",
        "    height_shift_range=0.2,\n",
        "    shear_range=0.2,\n",
        "    zoom_range=0.2,\n",
        "    horizontal_flip=True,\n",
        "    fill_mode='nearest'\n",
        ")\n",
        "\n",
        "test_datagen = ImageDataGenerator(rescale=1./255)\n",
        "\n",
        "batch_size = 32\n",
        "\n",
        "train_generator = train_datagen.flow(X_train, y_train, batch_size=batch_size)\n",
        "test_generator = test_datagen.flow(X_test, y_test, batch_size=batch_size)\n"
      ],
      "metadata": {
        "id": "U2bENyDlreZ6"
      },
      "execution_count": 11,
      "outputs": []
    },
    {
      "cell_type": "markdown",
      "source": [
        "# **Loading Pre-trained Models**"
      ],
      "metadata": {
        "id": "lZSb33yqriPo"
      }
    },
    {
      "cell_type": "code",
      "source": [
        "\n"
      ],
      "metadata": {
        "id": "s2-_-roHrmzV"
      },
      "execution_count": 11,
      "outputs": []
    },
    {
      "cell_type": "markdown",
      "source": [
        "Define Models"
      ],
      "metadata": {
        "id": "3Wm_87_4w-mV"
      }
    },
    {
      "cell_type": "code",
      "source": [
        "import tensorflow as tf\n",
        "from tensorflow.keras.layers import Dense, Flatten, Conv2D, MaxPooling2D, Dropout, Input\n",
        "from tensorflow.keras.models import Model\n",
        "from tensorflow.keras.callbacks import ModelCheckpoint, EarlyStopping\n",
        "\n",
        "# # Load the data\n",
        "# (X_train, y_train), (X_test, y_test) = tf.keras.datasets.fashion_mnist.load_data()\n",
        "\n",
        "# # Preprocess the data\n",
        "# X_train = X_train.astype('float32') / 255.0\n",
        "# X_test = X_test.astype('float32') / 255.0\n",
        "# X_train = X_train.reshape(-1, 28, 28, 1)\n",
        "# X_test = X_test.reshape(-1, 28, 28, 1)\n",
        "\n",
        "# # Define the VGG model\n",
        "# inputs = Input(shape=(28, 28, 1))\n",
        "\n",
        "# x = Conv2D(64, (3, 3), activation='relu')(inputs)\n",
        "# x = MaxPooling2D((2, 2))(x)\n",
        "\n",
        "# x = Conv2D(128, (3, 3), activation='relu')(x)\n",
        "# x = MaxPooling2D((2, 2))(x)\n",
        "\n",
        "# x = Conv2D(256, (3, 3), activation='relu')(x)\n",
        "# x = MaxPooling2D((2, 2))(x)\n",
        "\n",
        "# x = Flatten()(x)\n",
        "# x = Dense(256, activation='relu')(x)\n",
        "# x = Dropout(0.5)(x)\n",
        "# outputs = Dense(10, activation='softmax')(x)\n",
        "\n",
        "# model_vgg = Model(inputs=inputs, outputs=outputs)\n",
        "\n",
        "# # Define the MobileNet model\n",
        "# inputs = Input(shape=(28, 28, 1))\n",
        "\n",
        "# x = Conv2D(32, (3, 3), activation='relu')(inputs)\n",
        "# x = MaxPooling2D((2, 2))(x)\n",
        "\n",
        "# x = Conv2D(64, (3, 3), activation='relu')(x)\n",
        "# x = MaxPooling2D((2,2))(x)"
      ],
      "metadata": {
        "id": "f6MGv5K4xDlZ"
      },
      "execution_count": 12,
      "outputs": []
    },
    {
      "cell_type": "markdown",
      "source": [
        "# **Custom Classification Head**"
      ],
      "metadata": {
        "id": "EsHl9zUSrvLb"
      }
    },
    {
      "cell_type": "code",
      "source": [
        "base_model_vgg = VGG19(weights='imagenet', include_top=False, input_shape=(224, 224, 3))\n",
        "# Freeze the layers of the pre-trained VGG19 model\n",
        "for layer in base_model_vgg.layers:\n",
        "    layer.trainable = False\n",
        "# Add custom classification layers on top of the pre-trained model\n",
        "x_vgg = base_model_vgg.output\n",
        "x_vgg = GlobalAveragePooling2D()(x_vgg)\n",
        "predictions_vgg = Dense(len(categories), activation='softmax')(x_vgg)\n",
        "# Create the final model by combining the pre-trained base model and custom classification layers\n",
        "model_vgg = Model(inputs=base_model_vgg.input, outputs=predictions_vgg)\n",
        "#\n",
        "model_vgg.compile(optimizer=Adam(), loss='sparse_categorical_crossentropy', metrics=['accuracy'])\n",
        "#\n",
        "model_vgg.summary()\n",
        "\n",
        "# predictions_mobilenet = Dense(len(categories), activation='softmax')(x_mobilenet)\n",
        "# x_mobilenet = base_model_mobilenet.output\n",
        "# x_mobilenet = GlobalAveragePooling2D()(x_mobilenet)\n",
        "\n",
        "# base_model_mobilenet = MobileNet(weights='imagenet', include_top=False, input_shape=(224, 224, 3))\n"
      ],
      "metadata": {
        "id": "np2J1wWNr03B",
        "colab": {
          "base_uri": "https://localhost:8080/"
        },
        "outputId": "adc14eb0-9a6d-4fad-f512-eb04658ba55b"
      },
      "execution_count": null,
      "outputs": [
        {
          "output_type": "stream",
          "name": "stdout",
          "text": [
            "Model: \"model_2\"\n",
            "_________________________________________________________________\n",
            " Layer (type)                Output Shape              Param #   \n",
            "=================================================================\n",
            " input_2 (InputLayer)        [(None, 224, 224, 3)]     0         \n",
            "                                                                 \n",
            " block1_conv1 (Conv2D)       (None, 224, 224, 64)      1792      \n",
            "                                                                 \n",
            " block1_conv2 (Conv2D)       (None, 224, 224, 64)      36928     \n",
            "                                                                 \n",
            " block1_pool (MaxPooling2D)  (None, 112, 112, 64)      0         \n",
            "                                                                 \n",
            " block2_conv1 (Conv2D)       (None, 112, 112, 128)     73856     \n",
            "                                                                 \n",
            " block2_conv2 (Conv2D)       (None, 112, 112, 128)     147584    \n",
            "                                                                 \n",
            " block2_pool (MaxPooling2D)  (None, 56, 56, 128)       0         \n",
            "                                                                 \n",
            " block3_conv1 (Conv2D)       (None, 56, 56, 256)       295168    \n",
            "                                                                 \n",
            " block3_conv2 (Conv2D)       (None, 56, 56, 256)       590080    \n",
            "                                                                 \n",
            " block3_conv3 (Conv2D)       (None, 56, 56, 256)       590080    \n",
            "                                                                 \n",
            " block3_conv4 (Conv2D)       (None, 56, 56, 256)       590080    \n",
            "                                                                 \n",
            " block3_pool (MaxPooling2D)  (None, 28, 28, 256)       0         \n",
            "                                                                 \n",
            " block4_conv1 (Conv2D)       (None, 28, 28, 512)       1180160   \n",
            "                                                                 \n",
            " block4_conv2 (Conv2D)       (None, 28, 28, 512)       2359808   \n",
            "                                                                 \n",
            " block4_conv3 (Conv2D)       (None, 28, 28, 512)       2359808   \n",
            "                                                                 \n",
            " block4_conv4 (Conv2D)       (None, 28, 28, 512)       2359808   \n",
            "                                                                 \n",
            " block4_pool (MaxPooling2D)  (None, 14, 14, 512)       0         \n",
            "                                                                 \n",
            " block5_conv1 (Conv2D)       (None, 14, 14, 512)       2359808   \n",
            "                                                                 \n",
            " block5_conv2 (Conv2D)       (None, 14, 14, 512)       2359808   \n",
            "                                                                 \n",
            " block5_conv3 (Conv2D)       (None, 14, 14, 512)       2359808   \n",
            "                                                                 \n",
            " block5_conv4 (Conv2D)       (None, 14, 14, 512)       2359808   \n",
            "                                                                 \n",
            " block5_pool (MaxPooling2D)  (None, 7, 7, 512)         0         \n",
            "                                                                 \n",
            " global_average_pooling2d_1  (None, 512)               0         \n",
            "  (GlobalAveragePooling2D)                                       \n",
            "                                                                 \n",
            " dense_1 (Dense)             (None, 5)                 2565      \n",
            "                                                                 \n",
            "=================================================================\n",
            "Total params: 20026949 (76.40 MB)\n",
            "Trainable params: 2565 (10.02 KB)\n",
            "Non-trainable params: 20024384 (76.39 MB)\n",
            "_________________________________________________________________\n"
          ]
        }
      ]
    },
    {
      "cell_type": "code",
      "source": [],
      "metadata": {
        "id": "06miKwcSG0CN"
      },
      "execution_count": null,
      "outputs": []
    },
    {
      "cell_type": "markdown",
      "source": [
        "# **Compiling Models**"
      ],
      "metadata": {
        "id": "LOM08xY3tzbE"
      }
    },
    {
      "cell_type": "code",
      "source": [
        "model_vgg = Model(inputs=base_model_vgg.input, outputs=predictions_vgg)\n",
        "# model_mobilenet = Model(inputs=base_model_mobilenet.input, outputs=predictions_mobilenet)\n",
        "\n",
        "model_vgg.compile(optimizer=Adam(), loss='sparse_categorical_crossentropy', metrics=['accuracy'])\n",
        "# model_mobilenet.compile(optimizer=Adam(), loss='sparse_categorical_crossentropy', metrics=['accuracy'])\n",
        "model_vgg.summary()"
      ],
      "metadata": {
        "id": "vi6dLVgzt4XA",
        "colab": {
          "base_uri": "https://localhost:8080/"
        },
        "outputId": "a22ea1e3-111e-4e8e-bd97-5e28b9bd7441"
      },
      "execution_count": null,
      "outputs": [
        {
          "output_type": "stream",
          "name": "stdout",
          "text": [
            "Model: \"model_3\"\n",
            "_________________________________________________________________\n",
            " Layer (type)                Output Shape              Param #   \n",
            "=================================================================\n",
            " input_2 (InputLayer)        [(None, 224, 224, 3)]     0         \n",
            "                                                                 \n",
            " block1_conv1 (Conv2D)       (None, 224, 224, 64)      1792      \n",
            "                                                                 \n",
            " block1_conv2 (Conv2D)       (None, 224, 224, 64)      36928     \n",
            "                                                                 \n",
            " block1_pool (MaxPooling2D)  (None, 112, 112, 64)      0         \n",
            "                                                                 \n",
            " block2_conv1 (Conv2D)       (None, 112, 112, 128)     73856     \n",
            "                                                                 \n",
            " block2_conv2 (Conv2D)       (None, 112, 112, 128)     147584    \n",
            "                                                                 \n",
            " block2_pool (MaxPooling2D)  (None, 56, 56, 128)       0         \n",
            "                                                                 \n",
            " block3_conv1 (Conv2D)       (None, 56, 56, 256)       295168    \n",
            "                                                                 \n",
            " block3_conv2 (Conv2D)       (None, 56, 56, 256)       590080    \n",
            "                                                                 \n",
            " block3_conv3 (Conv2D)       (None, 56, 56, 256)       590080    \n",
            "                                                                 \n",
            " block3_conv4 (Conv2D)       (None, 56, 56, 256)       590080    \n",
            "                                                                 \n",
            " block3_pool (MaxPooling2D)  (None, 28, 28, 256)       0         \n",
            "                                                                 \n",
            " block4_conv1 (Conv2D)       (None, 28, 28, 512)       1180160   \n",
            "                                                                 \n",
            " block4_conv2 (Conv2D)       (None, 28, 28, 512)       2359808   \n",
            "                                                                 \n",
            " block4_conv3 (Conv2D)       (None, 28, 28, 512)       2359808   \n",
            "                                                                 \n",
            " block4_conv4 (Conv2D)       (None, 28, 28, 512)       2359808   \n",
            "                                                                 \n",
            " block4_pool (MaxPooling2D)  (None, 14, 14, 512)       0         \n",
            "                                                                 \n",
            " block5_conv1 (Conv2D)       (None, 14, 14, 512)       2359808   \n",
            "                                                                 \n",
            " block5_conv2 (Conv2D)       (None, 14, 14, 512)       2359808   \n",
            "                                                                 \n",
            " block5_conv3 (Conv2D)       (None, 14, 14, 512)       2359808   \n",
            "                                                                 \n",
            " block5_conv4 (Conv2D)       (None, 14, 14, 512)       2359808   \n",
            "                                                                 \n",
            " block5_pool (MaxPooling2D)  (None, 7, 7, 512)         0         \n",
            "                                                                 \n",
            " global_average_pooling2d_1  (None, 512)               0         \n",
            "  (GlobalAveragePooling2D)                                       \n",
            "                                                                 \n",
            " dense_1 (Dense)             (None, 5)                 2565      \n",
            "                                                                 \n",
            "=================================================================\n",
            "Total params: 20026949 (76.40 MB)\n",
            "Trainable params: 2565 (10.02 KB)\n",
            "Non-trainable params: 20024384 (76.39 MB)\n",
            "_________________________________________________________________\n"
          ]
        }
      ]
    },
    {
      "cell_type": "markdown",
      "source": [
        "# **Training Models**"
      ],
      "metadata": {
        "id": "iI1VwIh1t7tW"
      }
    },
    {
      "cell_type": "code",
      "source": [
        "# Install the required modules\n",
        "# !pip install tensorflow\n",
        "\n",
        "# Import the required modules\n",
        "import tensorflow as tf\n",
        "from tensorflow.keras.models import Sequential\n",
        "from tensorflow.keras.layers import Conv2D\n",
        "from tensorflow.keras.optimizers import Adam\n",
        "from tensorflow.keras.losses import BinaryCrossentropy\n",
        "\n",
        "\n",
        "\n",
        "# Train the models\n",
        "history_vgg = model_vgg.fit(train_generator, steps_per_epoch=len(X_train) // batch_size, epochs=20,\n",
        "                            validation_data=test_generator, validation_steps=len(X_test) // batch_size,)\n",
        "                            # callbacks=[checkpoint_vgg, early_stopping])\n",
        "\n",
        "# history_mobilenet = model_mobilenet.fit(train_generator, steps_per_epoch=len(X_train) // batch_size, epochs=20,\n",
        "#                                         validation_data=test_generator, validation_steps=len(X_test) // batch_size,)\n",
        "                                        # callbacks=[checkpoint_mobilenet, early_stopping])"
      ],
      "metadata": {
        "colab": {
          "base_uri": "https://localhost:8080/"
        },
        "id": "4o4YFqMlt__f",
        "outputId": "a874a412-4e85-4dc2-fc85-ee05082dcedd"
      },
      "execution_count": null,
      "outputs": [
        {
          "output_type": "stream",
          "name": "stdout",
          "text": [
            "Epoch 1/20\n",
            "41/41 [==============================] - 20s 465ms/step - loss: 1.5884 - accuracy: 0.2896 - val_loss: 1.4871 - val_accuracy: 0.3781\n",
            "Epoch 2/20\n",
            "41/41 [==============================] - 18s 435ms/step - loss: 1.5313 - accuracy: 0.3183 - val_loss: 1.4714 - val_accuracy: 0.3625\n",
            "Epoch 3/20\n",
            "41/41 [==============================] - 20s 474ms/step - loss: 1.5273 - accuracy: 0.3106 - val_loss: 1.4743 - val_accuracy: 0.4031\n",
            "Epoch 4/20\n",
            "41/41 [==============================] - 19s 464ms/step - loss: 1.5231 - accuracy: 0.3137 - val_loss: 1.4682 - val_accuracy: 0.4000\n",
            "Epoch 5/20\n",
            "41/41 [==============================] - 18s 435ms/step - loss: 1.5164 - accuracy: 0.3043 - val_loss: 1.4717 - val_accuracy: 0.3938\n",
            "Epoch 6/20\n",
            "41/41 [==============================] - 18s 433ms/step - loss: 1.5147 - accuracy: 0.3307 - val_loss: 1.4622 - val_accuracy: 0.4187\n",
            "Epoch 7/20\n",
            "41/41 [==============================] - 19s 445ms/step - loss: 1.5007 - accuracy: 0.3346 - val_loss: 1.4652 - val_accuracy: 0.3844\n",
            "Epoch 8/20\n",
            "41/41 [==============================] - 19s 460ms/step - loss: 1.5044 - accuracy: 0.3339 - val_loss: 1.4488 - val_accuracy: 0.4281\n",
            "Epoch 9/20\n",
            "41/41 [==============================] - 19s 461ms/step - loss: 1.4965 - accuracy: 0.3331 - val_loss: 1.4447 - val_accuracy: 0.3656\n",
            "Epoch 10/20\n",
            "41/41 [==============================] - 18s 432ms/step - loss: 1.4971 - accuracy: 0.3331 - val_loss: 1.4274 - val_accuracy: 0.3875\n",
            "Epoch 11/20\n",
            "41/41 [==============================] - 20s 477ms/step - loss: 1.4913 - accuracy: 0.3447 - val_loss: 1.4323 - val_accuracy: 0.4437\n",
            "Epoch 12/20\n",
            "41/41 [==============================] - 19s 460ms/step - loss: 1.4847 - accuracy: 0.3525 - val_loss: 1.4466 - val_accuracy: 0.3656\n",
            "Epoch 13/20\n",
            "41/41 [==============================] - 19s 467ms/step - loss: 1.4798 - accuracy: 0.3455 - val_loss: 1.4362 - val_accuracy: 0.4500\n",
            "Epoch 14/20\n",
            "41/41 [==============================] - 18s 434ms/step - loss: 1.4728 - accuracy: 0.3579 - val_loss: 1.4304 - val_accuracy: 0.3844\n",
            "Epoch 15/20\n",
            "41/41 [==============================] - 19s 458ms/step - loss: 1.4788 - accuracy: 0.3408 - val_loss: 1.4271 - val_accuracy: 0.4531\n",
            "Epoch 16/20\n",
            "41/41 [==============================] - 18s 436ms/step - loss: 1.4771 - accuracy: 0.3362 - val_loss: 1.4245 - val_accuracy: 0.4406\n",
            "Epoch 17/20\n",
            "41/41 [==============================] - 19s 472ms/step - loss: 1.4718 - accuracy: 0.3548 - val_loss: 1.4183 - val_accuracy: 0.4437\n",
            "Epoch 18/20\n",
            "41/41 [==============================] - 18s 435ms/step - loss: 1.4637 - accuracy: 0.3672 - val_loss: 1.4092 - val_accuracy: 0.4437\n",
            "Epoch 19/20\n",
            "41/41 [==============================] - 20s 480ms/step - loss: 1.4715 - accuracy: 0.3634 - val_loss: 1.4295 - val_accuracy: 0.4031\n",
            "Epoch 20/20\n",
            "41/41 [==============================] - 19s 465ms/step - loss: 1.4544 - accuracy: 0.3828 - val_loss: 1.4102 - val_accuracy: 0.4031\n"
          ]
        }
      ]
    },
    {
      "cell_type": "markdown",
      "source": [
        "# **Model Evaluation**"
      ],
      "metadata": {
        "id": "OkbUR9a7uN1z"
      }
    },
    {
      "cell_type": "code",
      "source": [
        "vgg_accuracy = model_vgg.evaluate(test_generator)\n",
        "print(type(vgg_accuracy))"
      ],
      "metadata": {
        "colab": {
          "base_uri": "https://localhost:8080/"
        },
        "id": "8sthBHzgzkS5",
        "outputId": "00bdfd0c-519e-420d-9627-c63ec1a10919"
      },
      "execution_count": null,
      "outputs": [
        {
          "output_type": "stream",
          "name": "stdout",
          "text": [
            "11/11 [==============================] - 2s 158ms/step - loss: 1.4105 - accuracy: 0.4061\n",
            "<class 'list'>\n"
          ]
        }
      ]
    },
    {
      "cell_type": "code",
      "source": [
        "# Check model definitions\n",
        "print(\"Model VGG summary:\")\n",
        "model_vgg.summary()\n",
        "\n",
        "# #print(\"\\nModel MobileNet summary:\")\n",
        "# model_mobilenet.summary()\n",
        "\n",
        "# Check data generator\n",
        "print(\"\\nTest generator:\")\n",
        "print(test_generator)\n",
        "\n",
        "# Check data format\n",
        "print(\"\\nTest generator data format:\")\n",
        "print(test_generator[0][0].shape)\n",
        "\n",
        "\n",
        "\n",
        "# Evaluate models and handle potential tuple result\n",
        "vgg_accuracy = model_vgg.evaluate(test_generator)\n",
        "if isinstance(vgg_accuracy, tuple):\n",
        "    vgg_accuracy = vgg_accuracy[1]\n",
        "\n",
        "#mobilenet_accuracy = model_mobilenet.evaluate(test_generator)\n",
        "# if isinstance(mobilenet_accuracy, tuple):\n",
        "#     mobilenet_accuracy = mobilenet_accuracy[1]\n",
        "\n",
        "# Print accuracy values\n",
        "print(\"\\nVGG Accuracy:\", vgg_accuracy)\n",
        "# print(\"MobileNet Accuracy:\", mobilenet_accuracy)"
      ],
      "metadata": {
        "colab": {
          "base_uri": "https://localhost:8080/"
        },
        "id": "8a86__5luR1u",
        "outputId": "10fae7d7-99cb-4bb0-cec5-c3dee11fec2d"
      },
      "execution_count": null,
      "outputs": [
        {
          "output_type": "stream",
          "name": "stdout",
          "text": [
            "Model VGG summary:\n",
            "Model: \"model\"\n",
            "_________________________________________________________________\n",
            " Layer (type)                Output Shape              Param #   \n",
            "=================================================================\n",
            " input_1 (InputLayer)        [(None, 224, 224, 3)]     0         \n",
            "                                                                 \n",
            " block1_conv1 (Conv2D)       (None, 224, 224, 64)      1792      \n",
            "                                                                 \n",
            " block1_conv2 (Conv2D)       (None, 224, 224, 64)      36928     \n",
            "                                                                 \n",
            " block1_pool (MaxPooling2D)  (None, 112, 112, 64)      0         \n",
            "                                                                 \n",
            " block2_conv1 (Conv2D)       (None, 112, 112, 128)     73856     \n",
            "                                                                 \n",
            " block2_conv2 (Conv2D)       (None, 112, 112, 128)     147584    \n",
            "                                                                 \n",
            " block2_pool (MaxPooling2D)  (None, 56, 56, 128)       0         \n",
            "                                                                 \n",
            " block3_conv1 (Conv2D)       (None, 56, 56, 256)       295168    \n",
            "                                                                 \n",
            " block3_conv2 (Conv2D)       (None, 56, 56, 256)       590080    \n",
            "                                                                 \n",
            " block3_conv3 (Conv2D)       (None, 56, 56, 256)       590080    \n",
            "                                                                 \n",
            " block3_conv4 (Conv2D)       (None, 56, 56, 256)       590080    \n",
            "                                                                 \n",
            " block3_pool (MaxPooling2D)  (None, 28, 28, 256)       0         \n",
            "                                                                 \n",
            " block4_conv1 (Conv2D)       (None, 28, 28, 512)       1180160   \n",
            "                                                                 \n",
            " block4_conv2 (Conv2D)       (None, 28, 28, 512)       2359808   \n",
            "                                                                 \n",
            " block4_conv3 (Conv2D)       (None, 28, 28, 512)       2359808   \n",
            "                                                                 \n",
            " block4_conv4 (Conv2D)       (None, 28, 28, 512)       2359808   \n",
            "                                                                 \n",
            " block4_pool (MaxPooling2D)  (None, 14, 14, 512)       0         \n",
            "                                                                 \n",
            " block5_conv1 (Conv2D)       (None, 14, 14, 512)       2359808   \n",
            "                                                                 \n",
            " block5_conv2 (Conv2D)       (None, 14, 14, 512)       2359808   \n",
            "                                                                 \n",
            " block5_conv3 (Conv2D)       (None, 14, 14, 512)       2359808   \n",
            "                                                                 \n",
            " block5_conv4 (Conv2D)       (None, 14, 14, 512)       2359808   \n",
            "                                                                 \n",
            " block5_pool (MaxPooling2D)  (None, 7, 7, 512)         0         \n",
            "                                                                 \n",
            " global_average_pooling2d (  (None, 512)               0         \n",
            " GlobalAveragePooling2D)                                         \n",
            "                                                                 \n",
            " dense (Dense)               (None, 5)                 2565      \n",
            "                                                                 \n",
            "=================================================================\n",
            "Total params: 20026949 (76.40 MB)\n",
            "Trainable params: 20026949 (76.40 MB)\n",
            "Non-trainable params: 0 (0.00 Byte)\n",
            "_________________________________________________________________\n",
            "\n",
            "Test generator:\n",
            "<keras.src.preprocessing.image.NumpyArrayIterator object at 0x7ac030496800>\n",
            "\n",
            "Test generator data format:\n",
            "(32, 224, 224, 3)\n",
            "11/11 [==============================] - 2s 143ms/step - loss: 1.4896 - accuracy: 0.3515\n",
            "\n",
            "VGG Accuracy: [1.48958158493042, 0.35151514410972595]\n"
          ]
        }
      ]
    },
    {
      "cell_type": "code",
      "source": [
        "# Define the directory containing test images\n",
        "test_dir = \"/content/drive/MyDrive/knee-project/test\"\n",
        "\n",
        "# Initialize an empty list to store image data\n",
        "test_images = []\n",
        "\n",
        "# Iterate over the images in the directory\n",
        "for image_name in os.listdir(test_dir):\n",
        "    if image_name.endswith(\".png\"):  # Check if the file is a PNG image\n",
        "        image_path = os.path.join(test_dir, image_name)\n",
        "        # Read the image and resize it to 224x224 pixels\n",
        "        image = cv2.imread(image_path, cv2.IMREAD_GRAYSCALE)\n",
        "        image = cv2.resize(image, (224, 224))\n",
        "        # Append the image data to the list\n",
        "        test_images.append(image)\n",
        "\n",
        "# Convert the list of images to a numpy array\n",
        "x_test = np.array(test_images)\n"
      ],
      "metadata": {
        "id": "Khgg1QCX2csO"
      },
      "execution_count": null,
      "outputs": []
    },
    {
      "cell_type": "markdown",
      "source": [
        "# **Heat map**"
      ],
      "metadata": {
        "id": "wtEAOJUDuZuJ"
      }
    },
    {
      "cell_type": "code",
      "source": [
        "print(image_path)\n",
        "img = preprocess_image(image_path)\n",
        "img.shape"
      ],
      "metadata": {
        "colab": {
          "base_uri": "https://localhost:8080/"
        },
        "id": "PuA5aXh10XSu",
        "outputId": "e4beb505-41ab-4e15-f6b1-65ddf4e39d26"
      },
      "execution_count": null,
      "outputs": [
        {
          "output_type": "stream",
          "name": "stdout",
          "text": [
            "/content/drive/MyDrive/knee-project/Moderate/ModerateG3 (218).png\n"
          ]
        },
        {
          "output_type": "execute_result",
          "data": {
            "text/plain": [
              "(224, 224, 3)"
            ]
          },
          "metadata": {},
          "execution_count": 20
        }
      ]
    },
    {
      "cell_type": "code",
      "source": [
        "# Function to generate and visualize heatmaps for VGG19 and MobileNet models\n",
        "def generate_heatmap(model, image_path):\n",
        "    # Load and preprocess the image\n",
        "    img = preprocess_image(image_path)\n",
        "    img_input = img.reshape(1, 224, 224, 3) / 255.0  # Normalize to [0, 1]\n",
        "\n",
        "    # Get the activation maps from the last convolutional layer\n",
        "    last_conv_layer = model.get_layer(index=-3)\n",
        "    heatmap_model = Model(model.inputs, last_conv_layer.output)\n",
        "    heatmap_output = heatmap_model.predict(img_input)\n",
        "\n",
        "    # Compute the class activation heatmap\n",
        "    heatmap = np.mean(heatmap_output, axis=-1)[0]\n",
        "    heatmap = np.maximum(heatmap, 0)  # Remove negative values\n",
        "    heatmap /= np.max(heatmap)  # Normalize to [0, 1]\n",
        "\n",
        "    # Resize the heatmap to the original image size\n",
        "    heatmap = cv2.resize(heatmap, (img.shape[1], img.shape[0]))\n",
        "\n",
        "    # Superimpose the heatmap on the original image\n",
        "    heatmap = cv2.applyColorMap(np.uint8(255 * heatmap), cv2.COLORMAP_JET)\n",
        "    superimposed_img = cv2.addWeighted(img, 0.7, heatmap, 0.3, 0)\n",
        "\n",
        "    # Display the original image, heatmap, and superimposed image\n",
        "    plt.figure(figsize=(12, 4))\n",
        "    plt.subplot(1, 3, 1)\n",
        "    plt.imshow(img.squeeze(), cmap='gray')\n",
        "    plt.title('Original Image')\n",
        "\n",
        "    plt.subplot(1, 3, 2)\n",
        "    plt.imshow(heatmap, cmap='jet')\n",
        "    plt.title('Heatmap')\n",
        "\n",
        "    plt.subplot(1, 3, 3)\n",
        "    plt.imshow(superimposed_img.squeeze(), cmap='gray')\n",
        "    plt.title('Superimposed Image')\n",
        "\n",
        "    plt.show()\n",
        "\n",
        "\n",
        "generate_heatmap(model_vgg, image_path)\n",
        "\n",
        "# Example usage for MobileNet\n",
        "# generate_heatmap(model_mobilenet, sample_image_path)\n"
      ],
      "metadata": {
        "colab": {
          "base_uri": "https://localhost:8080/",
          "height": 374
        },
        "id": "YBRbJTHruf7n",
        "outputId": "140390ed-06e6-4995-c348-c2fe23c1a76d"
      },
      "execution_count": null,
      "outputs": [
        {
          "output_type": "stream",
          "name": "stdout",
          "text": [
            "1/1 [==============================] - 1s 1s/step\n"
          ]
        },
        {
          "output_type": "display_data",
          "data": {
            "text/plain": [
              "<Figure size 1200x400 with 3 Axes>"
            ],
            "image/png": "[encoded data removed]"
          },
          "metadata": {}
        }
      ]
    },
    {
      "cell_type": "code",
      "source": [],
      "metadata": {
        "id": "LHEN30EUMzFj"
      },
      "execution_count": null,
      "outputs": []
    }
  ]
}